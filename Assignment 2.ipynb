{
 "cells": [
  {
   "cell_type": "markdown",
   "id": "6f90f3b5",
   "metadata": {},
   "source": [
    "# Data Preprocessing"
   ]
  },
  {
   "cell_type": "code",
   "execution_count": 20,
   "id": "4299bc6d",
   "metadata": {},
   "outputs": [],
   "source": [
    "import pandas as pd\n",
    "import pickle # for saving and loading trained model\n",
    "import seaborn as sns\n",
    "import matplotlib.pylab as plt\n"
   ]
  },
  {
   "cell_type": "code",
   "execution_count": 21,
   "id": "d15557ed",
   "metadata": {},
   "outputs": [],
   "source": [
    "df = pd.read_csv('load_data.csv') # Loading the data set"
   ]
  },
  {
   "cell_type": "code",
   "execution_count": 22,
   "id": "73f0b424",
   "metadata": {
    "scrolled": true
   },
   "outputs": [
    {
     "data": {
      "text/html": [
       "<div>\n",
       "<style scoped>\n",
       "    .dataframe tbody tr th:only-of-type {\n",
       "        vertical-align: middle;\n",
       "    }\n",
       "\n",
       "    .dataframe tbody tr th {\n",
       "        vertical-align: top;\n",
       "    }\n",
       "\n",
       "    .dataframe thead th {\n",
       "        text-align: right;\n",
       "    }\n",
       "</style>\n",
       "<table border=\"1\" class=\"dataframe\">\n",
       "  <thead>\n",
       "    <tr style=\"text-align: right;\">\n",
       "      <th></th>\n",
       "      <th>Date_Time</th>\n",
       "      <th>Usage_kWh</th>\n",
       "      <th>Lagging_Current_Reactive.Power_kVarh</th>\n",
       "      <th>Leading_Current_Reactive_Power_kVarh</th>\n",
       "      <th>CO2(tCO2)</th>\n",
       "      <th>Lagging_Current_Power_Factor</th>\n",
       "      <th>Leading_Current_Power_Factor</th>\n",
       "      <th>NSM</th>\n",
       "      <th>Load_Type</th>\n",
       "    </tr>\n",
       "  </thead>\n",
       "  <tbody>\n",
       "    <tr>\n",
       "      <th>0</th>\n",
       "      <td>01-01-2018 00:15</td>\n",
       "      <td>8.753692</td>\n",
       "      <td>2.95</td>\n",
       "      <td>0.0</td>\n",
       "      <td>0.0</td>\n",
       "      <td>73.210000</td>\n",
       "      <td>100.00000</td>\n",
       "      <td>900.000000</td>\n",
       "      <td>Light_Load</td>\n",
       "    </tr>\n",
       "    <tr>\n",
       "      <th>1</th>\n",
       "      <td>01-01-2018 00:30</td>\n",
       "      <td>4.000000</td>\n",
       "      <td>4.46</td>\n",
       "      <td>0.0</td>\n",
       "      <td>0.0</td>\n",
       "      <td>66.770000</td>\n",
       "      <td>100.00000</td>\n",
       "      <td>1800.000000</td>\n",
       "      <td>Light_Load</td>\n",
       "    </tr>\n",
       "    <tr>\n",
       "      <th>2</th>\n",
       "      <td>01-01-2018 00:45</td>\n",
       "      <td>3.240000</td>\n",
       "      <td>3.28</td>\n",
       "      <td>0.0</td>\n",
       "      <td>0.0</td>\n",
       "      <td>70.280000</td>\n",
       "      <td>100.00000</td>\n",
       "      <td>8070.880991</td>\n",
       "      <td>Light_Load</td>\n",
       "    </tr>\n",
       "    <tr>\n",
       "      <th>3</th>\n",
       "      <td>01-01-2018 01:00</td>\n",
       "      <td>3.310000</td>\n",
       "      <td>3.56</td>\n",
       "      <td>0.0</td>\n",
       "      <td>0.0</td>\n",
       "      <td>68.090000</td>\n",
       "      <td>100.00000</td>\n",
       "      <td>3600.000000</td>\n",
       "      <td>Light_Load</td>\n",
       "    </tr>\n",
       "    <tr>\n",
       "      <th>4</th>\n",
       "      <td>01-01-2018 01:15</td>\n",
       "      <td>3.820000</td>\n",
       "      <td>4.50</td>\n",
       "      <td>0.0</td>\n",
       "      <td>0.0</td>\n",
       "      <td>133.655666</td>\n",
       "      <td>NaN</td>\n",
       "      <td>4500.000000</td>\n",
       "      <td>Light_Load</td>\n",
       "    </tr>\n",
       "    <tr>\n",
       "      <th>...</th>\n",
       "      <td>...</td>\n",
       "      <td>...</td>\n",
       "      <td>...</td>\n",
       "      <td>...</td>\n",
       "      <td>...</td>\n",
       "      <td>...</td>\n",
       "      <td>...</td>\n",
       "      <td>...</td>\n",
       "      <td>...</td>\n",
       "    </tr>\n",
       "    <tr>\n",
       "      <th>95</th>\n",
       "      <td>01-01-2018 00:00</td>\n",
       "      <td>3.420000</td>\n",
       "      <td>3.46</td>\n",
       "      <td>0.0</td>\n",
       "      <td>0.0</td>\n",
       "      <td>70.300000</td>\n",
       "      <td>291.49819</td>\n",
       "      <td>0.000000</td>\n",
       "      <td>Light_Load</td>\n",
       "    </tr>\n",
       "    <tr>\n",
       "      <th>96</th>\n",
       "      <td>02-01-2018 00:15</td>\n",
       "      <td>3.200000</td>\n",
       "      <td>3.10</td>\n",
       "      <td>0.0</td>\n",
       "      <td>0.0</td>\n",
       "      <td>71.820000</td>\n",
       "      <td>100.00000</td>\n",
       "      <td>900.000000</td>\n",
       "      <td>Light_Load</td>\n",
       "    </tr>\n",
       "    <tr>\n",
       "      <th>97</th>\n",
       "      <td>02-01-2018 00:30</td>\n",
       "      <td>3.850000</td>\n",
       "      <td>NaN</td>\n",
       "      <td>0.0</td>\n",
       "      <td>0.0</td>\n",
       "      <td>64.100000</td>\n",
       "      <td>100.00000</td>\n",
       "      <td>1800.000000</td>\n",
       "      <td>Light_Load</td>\n",
       "    </tr>\n",
       "    <tr>\n",
       "      <th>98</th>\n",
       "      <td>02-01-2018 00:45</td>\n",
       "      <td>3.280000</td>\n",
       "      <td>3.67</td>\n",
       "      <td>0.0</td>\n",
       "      <td>0.0</td>\n",
       "      <td>66.640000</td>\n",
       "      <td>100.00000</td>\n",
       "      <td>2700.000000</td>\n",
       "      <td>Light_Load</td>\n",
       "    </tr>\n",
       "    <tr>\n",
       "      <th>99</th>\n",
       "      <td>02-01-2018 01:00</td>\n",
       "      <td>3.350000</td>\n",
       "      <td>3.60</td>\n",
       "      <td>0.0</td>\n",
       "      <td>NaN</td>\n",
       "      <td>68.120000</td>\n",
       "      <td>NaN</td>\n",
       "      <td>3600.000000</td>\n",
       "      <td>Light_Load</td>\n",
       "    </tr>\n",
       "  </tbody>\n",
       "</table>\n",
       "<p>100 rows × 9 columns</p>\n",
       "</div>"
      ],
      "text/plain": [
       "           Date_Time  Usage_kWh  Lagging_Current_Reactive.Power_kVarh  \\\n",
       "0   01-01-2018 00:15   8.753692                                  2.95   \n",
       "1   01-01-2018 00:30   4.000000                                  4.46   \n",
       "2   01-01-2018 00:45   3.240000                                  3.28   \n",
       "3   01-01-2018 01:00   3.310000                                  3.56   \n",
       "4   01-01-2018 01:15   3.820000                                  4.50   \n",
       "..               ...        ...                                   ...   \n",
       "95  01-01-2018 00:00   3.420000                                  3.46   \n",
       "96  02-01-2018 00:15   3.200000                                  3.10   \n",
       "97  02-01-2018 00:30   3.850000                                   NaN   \n",
       "98  02-01-2018 00:45   3.280000                                  3.67   \n",
       "99  02-01-2018 01:00   3.350000                                  3.60   \n",
       "\n",
       "    Leading_Current_Reactive_Power_kVarh  CO2(tCO2)  \\\n",
       "0                                    0.0        0.0   \n",
       "1                                    0.0        0.0   \n",
       "2                                    0.0        0.0   \n",
       "3                                    0.0        0.0   \n",
       "4                                    0.0        0.0   \n",
       "..                                   ...        ...   \n",
       "95                                   0.0        0.0   \n",
       "96                                   0.0        0.0   \n",
       "97                                   0.0        0.0   \n",
       "98                                   0.0        0.0   \n",
       "99                                   0.0        NaN   \n",
       "\n",
       "    Lagging_Current_Power_Factor  Leading_Current_Power_Factor          NSM  \\\n",
       "0                      73.210000                     100.00000   900.000000   \n",
       "1                      66.770000                     100.00000  1800.000000   \n",
       "2                      70.280000                     100.00000  8070.880991   \n",
       "3                      68.090000                     100.00000  3600.000000   \n",
       "4                     133.655666                           NaN  4500.000000   \n",
       "..                           ...                           ...          ...   \n",
       "95                     70.300000                     291.49819     0.000000   \n",
       "96                     71.820000                     100.00000   900.000000   \n",
       "97                     64.100000                     100.00000  1800.000000   \n",
       "98                     66.640000                     100.00000  2700.000000   \n",
       "99                     68.120000                           NaN  3600.000000   \n",
       "\n",
       "     Load_Type  \n",
       "0   Light_Load  \n",
       "1   Light_Load  \n",
       "2   Light_Load  \n",
       "3   Light_Load  \n",
       "4   Light_Load  \n",
       "..         ...  \n",
       "95  Light_Load  \n",
       "96  Light_Load  \n",
       "97  Light_Load  \n",
       "98  Light_Load  \n",
       "99  Light_Load  \n",
       "\n",
       "[100 rows x 9 columns]"
      ]
     },
     "execution_count": 22,
     "metadata": {},
     "output_type": "execute_result"
    }
   ],
   "source": [
    "df.head(100)"
   ]
  },
  {
   "cell_type": "code",
   "execution_count": 23,
   "id": "a8ec9cc9",
   "metadata": {},
   "outputs": [
    {
     "data": {
      "text/plain": [
       "'\\nHere converting the Date_Time column to datatime format (\"%d-%m-%Y %H:%M\") using to_datetime() method  \\nand errors parameter is used to handle any errors during the conversion.\\n\\n'"
      ]
     },
     "execution_count": 23,
     "metadata": {},
     "output_type": "execute_result"
    }
   ],
   "source": [
    "df['Date_Time'] = pd.to_datetime(df['Date_Time'], format=\"%d-%m-%Y %H:%M\", errors='coerce')\n",
    "'''\n",
    "Here converting the Date_Time column to datatime format (\"%d-%m-%Y %H:%M\") using to_datetime() method  \n",
    "and errors parameter is used to handle any errors during the conversion.\n",
    "\n",
    "'''"
   ]
  },
  {
   "cell_type": "code",
   "execution_count": 24,
   "id": "643c5683",
   "metadata": {},
   "outputs": [
    {
     "data": {
      "text/plain": [
       "'\\nSince Load_Type contains Categorical data here we go for One-hot encoding to convert\\nall the categories in Load_Type such as (Light_Load,Maximum_Load,Medium_Load)\\ninto a binary matrix (0s and 1s).\\n\\nHere i set drop_first=False because each unique category gets its own one-hot \\nencoded column, and to retain information about all categories without assuming \\nany specific reference category.\\n'"
      ]
     },
     "execution_count": 24,
     "metadata": {},
     "output_type": "execute_result"
    }
   ],
   "source": [
    "df = pd.get_dummies(df, columns=['Load_Type'], drop_first=False)\n",
    "'''\n",
    "Since Load_Type contains Categorical data here we go for One-hot encoding to convert\n",
    "all the categories in Load_Type such as (Light_Load,Maximum_Load,Medium_Load)\n",
    "into a binary matrix (0s and 1s).\n",
    "\n",
    "Here i set drop_first=False because each unique category gets its own one-hot \n",
    "encoded column, and to retain information about all categories without assuming \n",
    "any specific reference category.\n",
    "'''\n"
   ]
  },
  {
   "cell_type": "code",
   "execution_count": 25,
   "id": "867c31e0",
   "metadata": {},
   "outputs": [
    {
     "data": {
      "text/html": [
       "<div>\n",
       "<style scoped>\n",
       "    .dataframe tbody tr th:only-of-type {\n",
       "        vertical-align: middle;\n",
       "    }\n",
       "\n",
       "    .dataframe tbody tr th {\n",
       "        vertical-align: top;\n",
       "    }\n",
       "\n",
       "    .dataframe thead th {\n",
       "        text-align: right;\n",
       "    }\n",
       "</style>\n",
       "<table border=\"1\" class=\"dataframe\">\n",
       "  <thead>\n",
       "    <tr style=\"text-align: right;\">\n",
       "      <th></th>\n",
       "      <th>Date_Time</th>\n",
       "      <th>Usage_kWh</th>\n",
       "      <th>Lagging_Current_Reactive.Power_kVarh</th>\n",
       "      <th>Leading_Current_Reactive_Power_kVarh</th>\n",
       "      <th>CO2(tCO2)</th>\n",
       "      <th>Lagging_Current_Power_Factor</th>\n",
       "      <th>Leading_Current_Power_Factor</th>\n",
       "      <th>NSM</th>\n",
       "      <th>Load_Type_Light_Load</th>\n",
       "      <th>Load_Type_Maximum_Load</th>\n",
       "      <th>Load_Type_Medium_Load</th>\n",
       "    </tr>\n",
       "  </thead>\n",
       "  <tbody>\n",
       "    <tr>\n",
       "      <th>0</th>\n",
       "      <td>2018-01-01 00:15:00</td>\n",
       "      <td>8.753692</td>\n",
       "      <td>2.95</td>\n",
       "      <td>0.0</td>\n",
       "      <td>0.0</td>\n",
       "      <td>73.210000</td>\n",
       "      <td>100.0</td>\n",
       "      <td>900.000000</td>\n",
       "      <td>True</td>\n",
       "      <td>False</td>\n",
       "      <td>False</td>\n",
       "    </tr>\n",
       "    <tr>\n",
       "      <th>1</th>\n",
       "      <td>2018-01-01 00:30:00</td>\n",
       "      <td>4.000000</td>\n",
       "      <td>4.46</td>\n",
       "      <td>0.0</td>\n",
       "      <td>0.0</td>\n",
       "      <td>66.770000</td>\n",
       "      <td>100.0</td>\n",
       "      <td>1800.000000</td>\n",
       "      <td>True</td>\n",
       "      <td>False</td>\n",
       "      <td>False</td>\n",
       "    </tr>\n",
       "    <tr>\n",
       "      <th>2</th>\n",
       "      <td>2018-01-01 00:45:00</td>\n",
       "      <td>3.240000</td>\n",
       "      <td>3.28</td>\n",
       "      <td>0.0</td>\n",
       "      <td>0.0</td>\n",
       "      <td>70.280000</td>\n",
       "      <td>100.0</td>\n",
       "      <td>8070.880991</td>\n",
       "      <td>True</td>\n",
       "      <td>False</td>\n",
       "      <td>False</td>\n",
       "    </tr>\n",
       "    <tr>\n",
       "      <th>3</th>\n",
       "      <td>2018-01-01 01:00:00</td>\n",
       "      <td>3.310000</td>\n",
       "      <td>3.56</td>\n",
       "      <td>0.0</td>\n",
       "      <td>0.0</td>\n",
       "      <td>68.090000</td>\n",
       "      <td>100.0</td>\n",
       "      <td>3600.000000</td>\n",
       "      <td>True</td>\n",
       "      <td>False</td>\n",
       "      <td>False</td>\n",
       "    </tr>\n",
       "    <tr>\n",
       "      <th>4</th>\n",
       "      <td>2018-01-01 01:15:00</td>\n",
       "      <td>3.820000</td>\n",
       "      <td>4.50</td>\n",
       "      <td>0.0</td>\n",
       "      <td>0.0</td>\n",
       "      <td>133.655666</td>\n",
       "      <td>NaN</td>\n",
       "      <td>4500.000000</td>\n",
       "      <td>True</td>\n",
       "      <td>False</td>\n",
       "      <td>False</td>\n",
       "    </tr>\n",
       "  </tbody>\n",
       "</table>\n",
       "</div>"
      ],
      "text/plain": [
       "            Date_Time  Usage_kWh  Lagging_Current_Reactive.Power_kVarh  \\\n",
       "0 2018-01-01 00:15:00   8.753692                                  2.95   \n",
       "1 2018-01-01 00:30:00   4.000000                                  4.46   \n",
       "2 2018-01-01 00:45:00   3.240000                                  3.28   \n",
       "3 2018-01-01 01:00:00   3.310000                                  3.56   \n",
       "4 2018-01-01 01:15:00   3.820000                                  4.50   \n",
       "\n",
       "   Leading_Current_Reactive_Power_kVarh  CO2(tCO2)  \\\n",
       "0                                   0.0        0.0   \n",
       "1                                   0.0        0.0   \n",
       "2                                   0.0        0.0   \n",
       "3                                   0.0        0.0   \n",
       "4                                   0.0        0.0   \n",
       "\n",
       "   Lagging_Current_Power_Factor  Leading_Current_Power_Factor          NSM  \\\n",
       "0                     73.210000                         100.0   900.000000   \n",
       "1                     66.770000                         100.0  1800.000000   \n",
       "2                     70.280000                         100.0  8070.880991   \n",
       "3                     68.090000                         100.0  3600.000000   \n",
       "4                    133.655666                           NaN  4500.000000   \n",
       "\n",
       "   Load_Type_Light_Load  Load_Type_Maximum_Load  Load_Type_Medium_Load  \n",
       "0                  True                   False                  False  \n",
       "1                  True                   False                  False  \n",
       "2                  True                   False                  False  \n",
       "3                  True                   False                  False  \n",
       "4                  True                   False                  False  "
      ]
     },
     "execution_count": 25,
     "metadata": {},
     "output_type": "execute_result"
    }
   ],
   "source": [
    "df.head()"
   ]
  },
  {
   "cell_type": "code",
   "execution_count": 26,
   "id": "1403b18d",
   "metadata": {},
   "outputs": [
    {
     "data": {
      "text/plain": [
       "'\\nHere i am separating the datatime and numerical columns for the further purpose \\nof preprocessing because DataFrame contains different kinds of data\\n'"
      ]
     },
     "execution_count": 26,
     "metadata": {},
     "output_type": "execute_result"
    }
   ],
   "source": [
    "datetime_cols = df.select_dtypes(include=['datetime64[ns]']).columns\n",
    "numerical_cols = df.select_dtypes(include=['float64', 'int64']).columns\n",
    "'''\n",
    "Here i am separating the datatime and numerical columns for the further purpose \n",
    "of preprocessing because DataFrame contains different kinds of data\n",
    "'''"
   ]
  },
  {
   "cell_type": "markdown",
   "id": "d9e60a99",
   "metadata": {},
   "source": [
    "# Handling NAN values "
   ]
  },
  {
   "cell_type": "code",
   "execution_count": 27,
   "id": "fc9de6c8",
   "metadata": {},
   "outputs": [
    {
     "data": {
      "text/plain": [
       "\"\\nHere numerical column contains NAN values so i imported SimpleImputer \\nfrom sklearn.impute to handal NAN values, and i created imputer instance with\\nsimpleimputer class ans set strstegy as 'median' becasue mean affected too badly by outliers ,imputer is applied on all numerical\\ncolumns and fill up the NAN values with median set back to original DF\\n\""
      ]
     },
     "execution_count": 27,
     "metadata": {},
     "output_type": "execute_result"
    }
   ],
   "source": [
    "from sklearn.impute import SimpleImputer\n",
    "imputer = SimpleImputer(strategy='median')\n",
    "df[numerical_cols] = imputer.fit_transform(df[numerical_cols])\n",
    "'''\n",
    "Here numerical column contains NAN values so i imported SimpleImputer \n",
    "from sklearn.impute to handal NAN values, and i created imputer instance with\n",
    "simpleimputer class ans set strstegy as 'median' becasue mean affected too badly by outliers ,imputer is applied on all numerical\n",
    "columns and fill up the NAN values with median set back to original DF\n",
    "'''"
   ]
  },
  {
   "cell_type": "code",
   "execution_count": 28,
   "id": "1e67b97c",
   "metadata": {},
   "outputs": [
    {
     "data": {
      "text/plain": [
       "'\\nHere i imported the standardscaler module from sklearn to scale the numerical \\nvalues for Model Performance,Better Interpretability,and after Normalization of Features\\nthe values i have assigined bacl to the DataFrame\\n'"
      ]
     },
     "execution_count": 28,
     "metadata": {},
     "output_type": "execute_result"
    }
   ],
   "source": [
    "from sklearn.preprocessing import StandardScaler\n",
    "scaler = StandardScaler()\n",
    "df[numerical_cols] = scaler.fit_transform(df[numerical_cols])\n",
    "'''\n",
    "Here i imported the standardscaler module from sklearn to scale the numerical \n",
    "values for Model Performance,Better Interpretability,and after Normalization of Features\n",
    "the values i have assigined bacl to the DataFrame\n",
    "'''"
   ]
  },
  {
   "cell_type": "code",
   "execution_count": 29,
   "id": "e399c468",
   "metadata": {},
   "outputs": [
    {
     "data": {
      "text/plain": [
       "\"\\nHere i am splitting the DataFrame into feature (X) and target (Y) here i am \\nnot included Date_Time because i don't have any contribution in predicting \\nTarget value (Y)\\n\""
      ]
     },
     "execution_count": 29,
     "metadata": {},
     "output_type": "execute_result"
    }
   ],
   "source": [
    "\n",
    "X = df.drop(['Date_Time', 'Load_Type_Light_Load', 'Load_Type_Maximum_Load', 'Load_Type_Medium_Load'], axis=1)\n",
    "y = df[['Load_Type_Light_Load', 'Load_Type_Maximum_Load', 'Load_Type_Medium_Load']]\n",
    "'''\n",
    "Here i am splitting the DataFrame into feature (X) and target (Y) here i am \n",
    "not included Date_Time because i don't have any contribution in predicting \n",
    "Target value (Y)\n",
    "'''"
   ]
  },
  {
   "cell_type": "code",
   "execution_count": 30,
   "id": "c3ba2055",
   "metadata": {},
   "outputs": [
    {
     "data": {
      "text/plain": [
       "'\\nHere i imported train_test_split from sklearn to split the DF into \\ntraining and testing sets , i have splited the 20% of DF as testing \\nand set random_state=42 \\n\\n'"
      ]
     },
     "execution_count": 30,
     "metadata": {},
     "output_type": "execute_result"
    }
   ],
   "source": [
    "from sklearn.model_selection import train_test_split\n",
    "X_train, X_test, y_train, y_test = train_test_split(X, y, test_size=0.2, random_state=42)\n",
    "'''\n",
    "Here i imported train_test_split from sklearn to split the DF into \n",
    "training and testing sets , i have splited the 20% of DF as testing \n",
    "and set random_state=42 \n",
    "\n",
    "'''"
   ]
  },
  {
   "cell_type": "markdown",
   "id": "43c86e9e",
   "metadata": {},
   "source": [
    "# Model Selection,Training and Model Saving "
   ]
  },
  {
   "cell_type": "code",
   "execution_count": 28,
   "id": "acc8df6b",
   "metadata": {},
   "outputs": [],
   "source": [
    "\n",
    "from sklearn.ensemble import RandomForestClassifier\n",
    "from sklearn.model_selection import GridSearchCV\n",
    "\n",
    "'''\n",
    "here i used RandomForestClassifier as a model selection since it is a \n",
    "categorical data RandomForestClassifier best suited for it\n",
    "'''\n",
    "model = RandomForestClassifier(random_state=42)\n",
    "\n",
    "'''\n",
    "param_grid: This dictionary defines a range of hyperparameter values\n",
    "for the RandomForestClassifier\n",
    "'''\n",
    "param_grid = {\n",
    "    'n_estimators': [50, 100, 200],\n",
    "    'max_depth': [None, 10, 20, 30],\n",
    "    'min_samples_split': [2, 5, 10],\n",
    "    'min_samples_leaf': [1, 2, 4]\n",
    "}\n",
    "\n",
    "'''\n",
    "GridSearchCV: This is a method for performing hyperparameter tuning. \n",
    "It exhaustively searches through a specified parameter grid, evaluates \n",
    "the model performance using cross-validation, and selects the best combination \n",
    "of hyperparameters.\n",
    "'''\n",
    "\n",
    "grid_search = GridSearchCV(estimator=model, param_grid=param_grid, cv=5, scoring='accuracy')\n",
    "grid_search.fit(X_train, y_train)\n",
    "\n",
    "'''\n",
    "best_estimator_ contains the model with the best combination \n",
    "of hyperparameters, as determined by the cross-validated performance.\n",
    "'''\n",
    "best_model = grid_search.best_estimator_\n",
    "\n",
    "#saving the best_model for further using\n",
    "with open('best_model.pkl', 'wb') as model_file:\n",
    "    pickle.dump(best_model, model_file)"
   ]
  },
  {
   "cell_type": "markdown",
   "id": "0c616f25",
   "metadata": {},
   "source": [
    "# Loading trained model"
   ]
  },
  {
   "cell_type": "code",
   "execution_count": 31,
   "id": "677eaf54",
   "metadata": {},
   "outputs": [],
   "source": [
    "with open('best_model.pkl', 'rb') as model_file:\n",
    "    loaded_model = pickle.load(model_file)"
   ]
  },
  {
   "cell_type": "markdown",
   "id": "0d02d378",
   "metadata": {},
   "source": [
    "# Model Evaluation"
   ]
  },
  {
   "cell_type": "code",
   "execution_count": 32,
   "id": "283fbf50",
   "metadata": {},
   "outputs": [
    {
     "name": "stdout",
     "output_type": "stream",
     "text": [
      "              precision    recall  f1-score   support\n",
      "\n",
      "           0       0.97      0.95      0.96      3574\n",
      "           1       0.78      0.76      0.77      1499\n",
      "           2       0.79      0.76      0.77      1936\n",
      "\n",
      "   micro avg       0.88      0.85      0.87      7009\n",
      "   macro avg       0.85      0.82      0.83      7009\n",
      "weighted avg       0.88      0.85      0.87      7009\n",
      " samples avg       0.85      0.85      0.85      7009\n",
      "\n"
     ]
    },
    {
     "name": "stderr",
     "output_type": "stream",
     "text": [
      "C:\\Users\\vk100\\AppData\\Roaming\\Python\\Python39\\site-packages\\sklearn\\metrics\\_classification.py:1471: UndefinedMetricWarning: Precision and F-score are ill-defined and being set to 0.0 in samples with no predicted labels. Use `zero_division` parameter to control this behavior.\n",
      "  _warn_prf(average, modifier, msg_start, len(result))\n"
     ]
    }
   ],
   "source": [
    "from sklearn.metrics import classification_report, confusion_matrix\n",
    "'''\n",
    "predicting the target using saved train model\n",
    "and printing classification_report \n",
    "'''\n",
    "y_pred = loaded_model.predict(X_test)\n",
    "print(classification_report(y_test, y_pred))\n"
   ]
  },
  {
   "cell_type": "markdown",
   "id": "d68c3106",
   "metadata": {},
   "source": [
    "# confusion matrix"
   ]
  },
  {
   "cell_type": "code",
   "execution_count": 33,
   "id": "93730076",
   "metadata": {},
   "outputs": [
    {
     "name": "stdout",
     "output_type": "stream",
     "text": [
      "\n",
      "         Class 0 : Light_Load\n",
      "         Class 1 : Maximum_Load\n",
      "         Class 2 : Medium_Load\n",
      "      \n"
     ]
    },
    {
     "data": {
      "image/png": "[encoded data removed]",
      "text/plain": [
       "<Figure size 640x480 with 1 Axes>"
      ]
     },
     "metadata": {},
     "output_type": "display_data"
    },
    {
     "data": {
      "image/png": "[encoded data removed]",
      "text/plain": [
       "<Figure size 640x480 with 1 Axes>"
      ]
     },
     "metadata": {},
     "output_type": "display_data"
    },
    {
     "data": {
      "image/png": "[encoded data removed]",
      "text/plain": [
       "<Figure size 640x480 with 1 Axes>"
      ]
     },
     "metadata": {},
     "output_type": "display_data"
    }
   ],
   "source": [
    "from sklearn.metrics import multilabel_confusion_matrix\n",
    "\n",
    "# Createting a confusion matrix for each class\n",
    "cm = multilabel_confusion_matrix(y_test, y_pred)\n",
    "\n",
    "print('''\n",
    "         Class 0 : Light_Load\n",
    "         Class 1 : Maximum_Load\n",
    "         Class 2 : Medium_Load\n",
    "      ''')\n",
    "\n",
    "# Displaying confusion matrices\n",
    "for i in range(cm.shape[0]):\n",
    "    sns.heatmap(cm[i], annot=True, fmt='d', cmap='Blues', cbar=False)\n",
    "    plt.xlabel('Predicted')\n",
    "    plt.ylabel('True')\n",
    "    plt.title(f'Confusion Matrix - Class {i}')\n",
    "    plt.show()\n"
   ]
  },
  {
   "cell_type": "code",
   "execution_count": null,
   "id": "bdfa9d80",
   "metadata": {},
   "outputs": [],
   "source": []
  }
 ],
 "metadata": {
  "kernelspec": {
   "display_name": "Python 3 (ipykernel)",
   "language": "python",
   "name": "python3"
  },
  "language_info": {
   "codemirror_mode": {
    "name": "ipython",
    "version": 3
   },
   "file_extension": ".py",
   "mimetype": "text/x-python",
   "name": "python",
   "nbconvert_exporter": "python",
   "pygments_lexer": "ipython3",
   "version": "3.9.13"
  },
  "varInspector": {
   "cols": {
    "lenName": 16,
    "lenType": 16,
    "lenVar": 40
   },
   "kernels_config": {
    "python": {
     "delete_cmd_postfix": "",
     "delete_cmd_prefix": "del ",
     "library": "var_list.py",
     "varRefreshCmd": "print(var_dic_list())"
    },
    "r": {
     "delete_cmd_postfix": ") ",
     "delete_cmd_prefix": "rm(",
     "library": "var_list.r",
     "varRefreshCmd": "cat(var_dic_list()) "
    }
   },
   "types_to_exclude": [
    "module",
    "function",
    "builtin_function_or_method",
    "instance",
    "_Feature"
   ],
   "window_display": false
  }
 },
 "nbformat": 4,
 "nbformat_minor": 5
}
